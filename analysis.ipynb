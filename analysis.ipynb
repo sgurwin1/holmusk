{
 "cells": [
  {
   "cell_type": "markdown",
   "metadata": {},
   "source": [
    "# Initialisation"
   ]
  },
  {
   "cell_type": "code",
   "execution_count": 115,
   "metadata": {},
   "outputs": [],
   "source": [
    "# Install lifelines library\n",
    "#!pip install lifelines"
   ]
  },
  {
   "cell_type": "code",
   "execution_count": 116,
   "metadata": {},
   "outputs": [],
   "source": [
    "# Load libraries\n",
    "import pandas as pd\n",
    "import numpy as np\n",
    "import matplotlib.pyplot as plt\n",
    "from lifelines import *\n",
    "from lifelines.statistics import logrank_test\n",
    "from lifelines.statistics import survival_difference_at_fixed_point_in_time_test"
   ]
  },
  {
   "cell_type": "markdown",
   "metadata": {},
   "source": [
    "## User defined functions"
   ]
  },
  {
   "cell_type": "code",
   "execution_count": 117,
   "metadata": {},
   "outputs": [],
   "source": [
    "# Function to generate synthetic examples using bootstrapping with replacement\n",
    "def bootstrap_samples(df, n_samples):\n",
    "    synthetic_samples = []\n",
    "    for _ in range(n_samples):\n",
    "        bootstrap_sample = df.sample(n=len(df), replace=True)\n",
    "        synthetic_samples.append(bootstrap_sample)\n",
    "    return pd.concat(synthetic_samples)"
   ]
  },
  {
   "cell_type": "markdown",
   "metadata": {},
   "source": [
    "# Load data"
   ]
  },
  {
   "cell_type": "code",
   "execution_count": 118,
   "metadata": {},
   "outputs": [],
   "source": [
    "# Define data folder\n",
    "data_folder = \"../HOLM/SDS RWE Data Challenge Dataset/\""
   ]
  },
  {
   "cell_type": "code",
   "execution_count": 119,
   "metadata": {},
   "outputs": [],
   "source": [
    "# Read in files\n",
    "clin = pd.read_csv(data_folder  + \"clinical_data.csv\")\n",
    "demo = pd.read_csv(data_folder  + \"demographics.csv\")"
   ]
  },
  {
   "cell_type": "markdown",
   "metadata": {},
   "source": [
    "# Clean data"
   ]
  },
  {
   "cell_type": "markdown",
   "metadata": {},
   "source": [
    "## Clinical data"
   ]
  },
  {
   "cell_type": "code",
   "execution_count": 120,
   "metadata": {},
   "outputs": [
    {
     "data": {
      "text/html": [
       "<div>\n",
       "<style scoped>\n",
       "    .dataframe tbody tr th:only-of-type {\n",
       "        vertical-align: middle;\n",
       "    }\n",
       "\n",
       "    .dataframe tbody tr th {\n",
       "        vertical-align: top;\n",
       "    }\n",
       "\n",
       "    .dataframe thead th {\n",
       "        text-align: right;\n",
       "    }\n",
       "</style>\n",
       "<table border=\"1\" class=\"dataframe\">\n",
       "  <thead>\n",
       "    <tr style=\"text-align: right;\">\n",
       "      <th></th>\n",
       "      <th>id</th>\n",
       "      <th>date_of_admission</th>\n",
       "      <th>date_of_discharge</th>\n",
       "      <th>medical_history_dia</th>\n",
       "      <th>medical_history_sud</th>\n",
       "      <th>medical_history_hbp</th>\n",
       "      <th>medical_history_ren</th>\n",
       "      <th>medical_history_tum</th>\n",
       "      <th>medical_history_anx</th>\n",
       "      <th>medical_history_mood</th>\n",
       "      <th>...</th>\n",
       "      <th>symptom_1</th>\n",
       "      <th>symptom_2</th>\n",
       "      <th>symptom_3</th>\n",
       "      <th>symptom_4</th>\n",
       "      <th>symptom_5</th>\n",
       "      <th>weight</th>\n",
       "      <th>height</th>\n",
       "      <th>cgis_adm</th>\n",
       "      <th>cgis_dis</th>\n",
       "      <th>gaf_lv</th>\n",
       "    </tr>\n",
       "  </thead>\n",
       "  <tbody>\n",
       "    <tr>\n",
       "      <th>0</th>\n",
       "      <td>1d21f2be18683991eb93d182d6b2d220</td>\n",
       "      <td>1/1/11</td>\n",
       "      <td>11/1/11</td>\n",
       "      <td>0</td>\n",
       "      <td>1.0</td>\n",
       "      <td>0</td>\n",
       "      <td>0</td>\n",
       "      <td>0.0</td>\n",
       "      <td>0</td>\n",
       "      <td>0</td>\n",
       "      <td>...</td>\n",
       "      <td>0</td>\n",
       "      <td>0</td>\n",
       "      <td>0</td>\n",
       "      <td>1</td>\n",
       "      <td>1</td>\n",
       "      <td>71.3</td>\n",
       "      <td>161</td>\n",
       "      <td>2</td>\n",
       "      <td>2</td>\n",
       "      <td>2</td>\n",
       "    </tr>\n",
       "    <tr>\n",
       "      <th>1</th>\n",
       "      <td>62bdca0b95d97e99e1c712048fb9fd09</td>\n",
       "      <td>1/1/11</td>\n",
       "      <td>11/1/11</td>\n",
       "      <td>0</td>\n",
       "      <td>0.0</td>\n",
       "      <td>0</td>\n",
       "      <td>0</td>\n",
       "      <td>0.0</td>\n",
       "      <td>0</td>\n",
       "      <td>0</td>\n",
       "      <td>...</td>\n",
       "      <td>0</td>\n",
       "      <td>0</td>\n",
       "      <td>1</td>\n",
       "      <td>1</td>\n",
       "      <td>1</td>\n",
       "      <td>78.4</td>\n",
       "      <td>160</td>\n",
       "      <td>6</td>\n",
       "      <td>5</td>\n",
       "      <td>2</td>\n",
       "    </tr>\n",
       "    <tr>\n",
       "      <th>2</th>\n",
       "      <td>c85cf97bc6307ded0dd4fef8bad2fa09</td>\n",
       "      <td>2/1/11</td>\n",
       "      <td>13/1/11</td>\n",
       "      <td>0</td>\n",
       "      <td>0.0</td>\n",
       "      <td>0</td>\n",
       "      <td>0</td>\n",
       "      <td>0.0</td>\n",
       "      <td>0</td>\n",
       "      <td>0</td>\n",
       "      <td>...</td>\n",
       "      <td>1</td>\n",
       "      <td>1</td>\n",
       "      <td>1</td>\n",
       "      <td>1</td>\n",
       "      <td>0</td>\n",
       "      <td>72.0</td>\n",
       "      <td>151</td>\n",
       "      <td>5</td>\n",
       "      <td>5</td>\n",
       "      <td>4</td>\n",
       "    </tr>\n",
       "    <tr>\n",
       "      <th>3</th>\n",
       "      <td>e0397dd72caf4552c5babebd3d61736c</td>\n",
       "      <td>2/1/11</td>\n",
       "      <td>14/1/11</td>\n",
       "      <td>0</td>\n",
       "      <td>1.0</td>\n",
       "      <td>No</td>\n",
       "      <td>0</td>\n",
       "      <td>0.0</td>\n",
       "      <td>1</td>\n",
       "      <td>1</td>\n",
       "      <td>...</td>\n",
       "      <td>1</td>\n",
       "      <td>1</td>\n",
       "      <td>1</td>\n",
       "      <td>1</td>\n",
       "      <td>1</td>\n",
       "      <td>64.4</td>\n",
       "      <td>152</td>\n",
       "      <td>3</td>\n",
       "      <td>5</td>\n",
       "      <td>5</td>\n",
       "    </tr>\n",
       "    <tr>\n",
       "      <th>4</th>\n",
       "      <td>94ade3cd5f66f4584902554dff170a29</td>\n",
       "      <td>8/1/11</td>\n",
       "      <td>16/1/11</td>\n",
       "      <td>0</td>\n",
       "      <td>0.0</td>\n",
       "      <td>No</td>\n",
       "      <td>0</td>\n",
       "      <td>0.0</td>\n",
       "      <td>1</td>\n",
       "      <td>1</td>\n",
       "      <td>...</td>\n",
       "      <td>0</td>\n",
       "      <td>1</td>\n",
       "      <td>0</td>\n",
       "      <td>1</td>\n",
       "      <td>0</td>\n",
       "      <td>55.6</td>\n",
       "      <td>160</td>\n",
       "      <td>3</td>\n",
       "      <td>4</td>\n",
       "      <td>5</td>\n",
       "    </tr>\n",
       "  </tbody>\n",
       "</table>\n",
       "<p>5 rows × 26 columns</p>\n",
       "</div>"
      ],
      "text/plain": [
       "                                 id date_of_admission date_of_discharge  \\\n",
       "0  1d21f2be18683991eb93d182d6b2d220            1/1/11           11/1/11   \n",
       "1  62bdca0b95d97e99e1c712048fb9fd09            1/1/11           11/1/11   \n",
       "2  c85cf97bc6307ded0dd4fef8bad2fa09            2/1/11           13/1/11   \n",
       "3  e0397dd72caf4552c5babebd3d61736c            2/1/11           14/1/11   \n",
       "4  94ade3cd5f66f4584902554dff170a29            8/1/11           16/1/11   \n",
       "\n",
       "   medical_history_dia  medical_history_sud medical_history_hbp  \\\n",
       "0                    0                  1.0                   0   \n",
       "1                    0                  0.0                   0   \n",
       "2                    0                  0.0                   0   \n",
       "3                    0                  1.0                  No   \n",
       "4                    0                  0.0                  No   \n",
       "\n",
       "   medical_history_ren  medical_history_tum  medical_history_anx  \\\n",
       "0                    0                  0.0                    0   \n",
       "1                    0                  0.0                    0   \n",
       "2                    0                  0.0                    0   \n",
       "3                    0                  0.0                    1   \n",
       "4                    0                  0.0                    1   \n",
       "\n",
       "   medical_history_mood  ...  symptom_1  symptom_2  symptom_3  symptom_4  \\\n",
       "0                     0  ...          0          0          0          1   \n",
       "1                     0  ...          0          0          1          1   \n",
       "2                     0  ...          1          1          1          1   \n",
       "3                     1  ...          1          1          1          1   \n",
       "4                     1  ...          0          1          0          1   \n",
       "\n",
       "   symptom_5  weight  height  cgis_adm  cgis_dis  gaf_lv  \n",
       "0          1    71.3     161         2         2       2  \n",
       "1          1    78.4     160         6         5       2  \n",
       "2          0    72.0     151         5         5       4  \n",
       "3          1    64.4     152         3         5       5  \n",
       "4          0    55.6     160         3         4       5  \n",
       "\n",
       "[5 rows x 26 columns]"
      ]
     },
     "execution_count": 120,
     "metadata": {},
     "output_type": "execute_result"
    }
   ],
   "source": [
    "# Print head\n",
    "clin.head()"
   ]
  },
  {
   "cell_type": "code",
   "execution_count": 121,
   "metadata": {},
   "outputs": [
    {
     "data": {
      "text/plain": [
       "(3400, 26)"
      ]
     },
     "execution_count": 121,
     "metadata": {},
     "output_type": "execute_result"
    }
   ],
   "source": [
    "# Print shape\n",
    "clin.shape"
   ]
  },
  {
   "cell_type": "code",
   "execution_count": 122,
   "metadata": {},
   "outputs": [],
   "source": [
    "# Create a row id\n",
    "clin[\"row_id\"] = clin.index + 1"
   ]
  },
  {
   "cell_type": "code",
   "execution_count": 123,
   "metadata": {},
   "outputs": [
    {
     "data": {
      "text/plain": [
       "3000"
      ]
     },
     "execution_count": 123,
     "metadata": {},
     "output_type": "execute_result"
    }
   ],
   "source": [
    "# Is there one row per patient?\n",
    "clin[\"id\"].nunique()"
   ]
  },
  {
   "cell_type": "markdown",
   "metadata": {},
   "source": [
    "There are multiple rows per patient, indicating multiple admissions per patient"
   ]
  },
  {
   "cell_type": "code",
   "execution_count": 124,
   "metadata": {},
   "outputs": [
    {
     "data": {
      "text/plain": [
       "id\n",
       "4e46fddfa404b306809c350aecbf0f6a    4\n",
       "cf835526e33d00afa016ac898582038c    3\n",
       "e3270f450ee164e596ca933a25bab61d    3\n",
       "86cbe18dab50db6269046fc539915636    3\n",
       "ea4f259bc46b6818f55b774abb7ac690    3\n",
       "                                   ..\n",
       "1674e89a8966b5c3a9d9abde436d8dc5    1\n",
       "6d1b7ad0a96572595c814704f3943bc8    1\n",
       "ae5530a383321f9a3986f333b44a85c4    1\n",
       "abcaddd0aead7990bbd88526bc1670b5    1\n",
       "a4c61deaa9ce86b4d2289eab6128b872    1\n",
       "Name: count, Length: 3000, dtype: int64"
      ]
     },
     "execution_count": 124,
     "metadata": {},
     "output_type": "execute_result"
    }
   ],
   "source": [
    "# What is the maximum number of admissions per patient?\n",
    "clin[\"id\"].value_counts()"
   ]
  },
  {
   "cell_type": "code",
   "execution_count": 125,
   "metadata": {},
   "outputs": [],
   "source": [
    "# Clean dates\n",
    "clin[\"date_of_admission\"] = pd.to_datetime(clin[\"date_of_admission\"],format=\"%d/%m/%y\")\n",
    "clin[\"date_of_discharge\"] = pd.to_datetime(clin[\"date_of_discharge\"],format=\"%d/%m/%y\")"
   ]
  },
  {
   "cell_type": "code",
   "execution_count": 126,
   "metadata": {},
   "outputs": [],
   "source": [
    "# Calculate BMI variable\n",
    "clin[\"bmi\"] = round((clin[\"weight\"] / (clin[\"height\"]/100)**2),2)"
   ]
  },
  {
   "cell_type": "code",
   "execution_count": 127,
   "metadata": {},
   "outputs": [
    {
     "data": {
      "text/html": [
       "<div>\n",
       "<style scoped>\n",
       "    .dataframe tbody tr th:only-of-type {\n",
       "        vertical-align: middle;\n",
       "    }\n",
       "\n",
       "    .dataframe tbody tr th {\n",
       "        vertical-align: top;\n",
       "    }\n",
       "\n",
       "    .dataframe thead th {\n",
       "        text-align: right;\n",
       "    }\n",
       "</style>\n",
       "<table border=\"1\" class=\"dataframe\">\n",
       "  <thead>\n",
       "    <tr style=\"text-align: right;\">\n",
       "      <th></th>\n",
       "      <th>id</th>\n",
       "      <th>date_of_admission</th>\n",
       "      <th>date_of_discharge</th>\n",
       "      <th>medical_history_dia</th>\n",
       "      <th>medical_history_sud</th>\n",
       "      <th>medical_history_hbp</th>\n",
       "      <th>medical_history_ren</th>\n",
       "      <th>medical_history_tum</th>\n",
       "      <th>medical_history_anx</th>\n",
       "      <th>medical_history_mood</th>\n",
       "      <th>...</th>\n",
       "      <th>symptom_3</th>\n",
       "      <th>symptom_4</th>\n",
       "      <th>symptom_5</th>\n",
       "      <th>weight</th>\n",
       "      <th>height</th>\n",
       "      <th>cgis_adm</th>\n",
       "      <th>cgis_dis</th>\n",
       "      <th>gaf_lv</th>\n",
       "      <th>row_id</th>\n",
       "      <th>bmi</th>\n",
       "    </tr>\n",
       "  </thead>\n",
       "  <tbody>\n",
       "    <tr>\n",
       "      <th>0</th>\n",
       "      <td>1d21f2be18683991eb93d182d6b2d220</td>\n",
       "      <td>2011-01-01</td>\n",
       "      <td>2011-01-11</td>\n",
       "      <td>0</td>\n",
       "      <td>1.0</td>\n",
       "      <td>0</td>\n",
       "      <td>0</td>\n",
       "      <td>0.0</td>\n",
       "      <td>0</td>\n",
       "      <td>0</td>\n",
       "      <td>...</td>\n",
       "      <td>0</td>\n",
       "      <td>1</td>\n",
       "      <td>1</td>\n",
       "      <td>71.3</td>\n",
       "      <td>161</td>\n",
       "      <td>2</td>\n",
       "      <td>2</td>\n",
       "      <td>2</td>\n",
       "      <td>1</td>\n",
       "      <td>27.51</td>\n",
       "    </tr>\n",
       "    <tr>\n",
       "      <th>1</th>\n",
       "      <td>62bdca0b95d97e99e1c712048fb9fd09</td>\n",
       "      <td>2011-01-01</td>\n",
       "      <td>2011-01-11</td>\n",
       "      <td>0</td>\n",
       "      <td>0.0</td>\n",
       "      <td>0</td>\n",
       "      <td>0</td>\n",
       "      <td>0.0</td>\n",
       "      <td>0</td>\n",
       "      <td>0</td>\n",
       "      <td>...</td>\n",
       "      <td>1</td>\n",
       "      <td>1</td>\n",
       "      <td>1</td>\n",
       "      <td>78.4</td>\n",
       "      <td>160</td>\n",
       "      <td>6</td>\n",
       "      <td>5</td>\n",
       "      <td>2</td>\n",
       "      <td>2</td>\n",
       "      <td>30.62</td>\n",
       "    </tr>\n",
       "    <tr>\n",
       "      <th>2</th>\n",
       "      <td>c85cf97bc6307ded0dd4fef8bad2fa09</td>\n",
       "      <td>2011-01-02</td>\n",
       "      <td>2011-01-13</td>\n",
       "      <td>0</td>\n",
       "      <td>0.0</td>\n",
       "      <td>0</td>\n",
       "      <td>0</td>\n",
       "      <td>0.0</td>\n",
       "      <td>0</td>\n",
       "      <td>0</td>\n",
       "      <td>...</td>\n",
       "      <td>1</td>\n",
       "      <td>1</td>\n",
       "      <td>0</td>\n",
       "      <td>72.0</td>\n",
       "      <td>151</td>\n",
       "      <td>5</td>\n",
       "      <td>5</td>\n",
       "      <td>4</td>\n",
       "      <td>3</td>\n",
       "      <td>31.58</td>\n",
       "    </tr>\n",
       "    <tr>\n",
       "      <th>3</th>\n",
       "      <td>e0397dd72caf4552c5babebd3d61736c</td>\n",
       "      <td>2011-01-02</td>\n",
       "      <td>2011-01-14</td>\n",
       "      <td>0</td>\n",
       "      <td>1.0</td>\n",
       "      <td>No</td>\n",
       "      <td>0</td>\n",
       "      <td>0.0</td>\n",
       "      <td>1</td>\n",
       "      <td>1</td>\n",
       "      <td>...</td>\n",
       "      <td>1</td>\n",
       "      <td>1</td>\n",
       "      <td>1</td>\n",
       "      <td>64.4</td>\n",
       "      <td>152</td>\n",
       "      <td>3</td>\n",
       "      <td>5</td>\n",
       "      <td>5</td>\n",
       "      <td>4</td>\n",
       "      <td>27.87</td>\n",
       "    </tr>\n",
       "    <tr>\n",
       "      <th>4</th>\n",
       "      <td>94ade3cd5f66f4584902554dff170a29</td>\n",
       "      <td>2011-01-08</td>\n",
       "      <td>2011-01-16</td>\n",
       "      <td>0</td>\n",
       "      <td>0.0</td>\n",
       "      <td>No</td>\n",
       "      <td>0</td>\n",
       "      <td>0.0</td>\n",
       "      <td>1</td>\n",
       "      <td>1</td>\n",
       "      <td>...</td>\n",
       "      <td>0</td>\n",
       "      <td>1</td>\n",
       "      <td>0</td>\n",
       "      <td>55.6</td>\n",
       "      <td>160</td>\n",
       "      <td>3</td>\n",
       "      <td>4</td>\n",
       "      <td>5</td>\n",
       "      <td>5</td>\n",
       "      <td>21.72</td>\n",
       "    </tr>\n",
       "  </tbody>\n",
       "</table>\n",
       "<p>5 rows × 28 columns</p>\n",
       "</div>"
      ],
      "text/plain": [
       "                                 id date_of_admission date_of_discharge  \\\n",
       "0  1d21f2be18683991eb93d182d6b2d220        2011-01-01        2011-01-11   \n",
       "1  62bdca0b95d97e99e1c712048fb9fd09        2011-01-01        2011-01-11   \n",
       "2  c85cf97bc6307ded0dd4fef8bad2fa09        2011-01-02        2011-01-13   \n",
       "3  e0397dd72caf4552c5babebd3d61736c        2011-01-02        2011-01-14   \n",
       "4  94ade3cd5f66f4584902554dff170a29        2011-01-08        2011-01-16   \n",
       "\n",
       "   medical_history_dia  medical_history_sud medical_history_hbp  \\\n",
       "0                    0                  1.0                   0   \n",
       "1                    0                  0.0                   0   \n",
       "2                    0                  0.0                   0   \n",
       "3                    0                  1.0                  No   \n",
       "4                    0                  0.0                  No   \n",
       "\n",
       "   medical_history_ren  medical_history_tum  medical_history_anx  \\\n",
       "0                    0                  0.0                    0   \n",
       "1                    0                  0.0                    0   \n",
       "2                    0                  0.0                    0   \n",
       "3                    0                  0.0                    1   \n",
       "4                    0                  0.0                    1   \n",
       "\n",
       "   medical_history_mood  ...  symptom_3  symptom_4  symptom_5  weight  height  \\\n",
       "0                     0  ...          0          1          1    71.3     161   \n",
       "1                     0  ...          1          1          1    78.4     160   \n",
       "2                     0  ...          1          1          0    72.0     151   \n",
       "3                     1  ...          1          1          1    64.4     152   \n",
       "4                     1  ...          0          1          0    55.6     160   \n",
       "\n",
       "   cgis_adm  cgis_dis  gaf_lv  row_id    bmi  \n",
       "0         2         2       2       1  27.51  \n",
       "1         6         5       2       2  30.62  \n",
       "2         5         5       4       3  31.58  \n",
       "3         3         5       5       4  27.87  \n",
       "4         3         4       5       5  21.72  \n",
       "\n",
       "[5 rows x 28 columns]"
      ]
     },
     "execution_count": 127,
     "metadata": {},
     "output_type": "execute_result"
    }
   ],
   "source": [
    "# Print head\n",
    "clin.head()"
   ]
  },
  {
   "cell_type": "markdown",
   "metadata": {},
   "source": [
    "## Demographics"
   ]
  },
  {
   "cell_type": "code",
   "execution_count": 128,
   "metadata": {},
   "outputs": [
    {
     "data": {
      "text/html": [
       "<div>\n",
       "<style scoped>\n",
       "    .dataframe tbody tr th:only-of-type {\n",
       "        vertical-align: middle;\n",
       "    }\n",
       "\n",
       "    .dataframe tbody tr th {\n",
       "        vertical-align: top;\n",
       "    }\n",
       "\n",
       "    .dataframe thead th {\n",
       "        text-align: right;\n",
       "    }\n",
       "</style>\n",
       "<table border=\"1\" class=\"dataframe\">\n",
       "  <thead>\n",
       "    <tr style=\"text-align: right;\">\n",
       "      <th></th>\n",
       "      <th>patient_id</th>\n",
       "      <th>gender</th>\n",
       "      <th>race</th>\n",
       "      <th>resident_status</th>\n",
       "      <th>date_of_birth</th>\n",
       "    </tr>\n",
       "  </thead>\n",
       "  <tbody>\n",
       "    <tr>\n",
       "      <th>0</th>\n",
       "      <td>fa2d818b2261e44e30628ad1ac9cc72c</td>\n",
       "      <td>Female</td>\n",
       "      <td>Indian</td>\n",
       "      <td>Singaporean</td>\n",
       "      <td>1971-05-14</td>\n",
       "    </tr>\n",
       "    <tr>\n",
       "      <th>1</th>\n",
       "      <td>5b6477c5de78d0b138e3b0c18e21d0ae</td>\n",
       "      <td>f</td>\n",
       "      <td>Chinese</td>\n",
       "      <td>Singapore citizen</td>\n",
       "      <td>1976-02-18</td>\n",
       "    </tr>\n",
       "    <tr>\n",
       "      <th>2</th>\n",
       "      <td>320aa16c61937447fd6631bf635e7fde</td>\n",
       "      <td>Male</td>\n",
       "      <td>Chinese</td>\n",
       "      <td>Singapore citizen</td>\n",
       "      <td>1982-07-03</td>\n",
       "    </tr>\n",
       "    <tr>\n",
       "      <th>3</th>\n",
       "      <td>c7f3881684045e6c49020481020fae36</td>\n",
       "      <td>Male</td>\n",
       "      <td>Malay</td>\n",
       "      <td>Singapore citizen</td>\n",
       "      <td>1947-06-15</td>\n",
       "    </tr>\n",
       "    <tr>\n",
       "      <th>4</th>\n",
       "      <td>541ad077cb4a0e64cc422673afe28aef</td>\n",
       "      <td>m</td>\n",
       "      <td>Chinese</td>\n",
       "      <td>Singaporean</td>\n",
       "      <td>1970-12-12</td>\n",
       "    </tr>\n",
       "  </tbody>\n",
       "</table>\n",
       "</div>"
      ],
      "text/plain": [
       "                         patient_id  gender     race    resident_status  \\\n",
       "0  fa2d818b2261e44e30628ad1ac9cc72c  Female   Indian        Singaporean   \n",
       "1  5b6477c5de78d0b138e3b0c18e21d0ae       f  Chinese  Singapore citizen   \n",
       "2  320aa16c61937447fd6631bf635e7fde    Male  Chinese  Singapore citizen   \n",
       "3  c7f3881684045e6c49020481020fae36    Male    Malay  Singapore citizen   \n",
       "4  541ad077cb4a0e64cc422673afe28aef       m  Chinese        Singaporean   \n",
       "\n",
       "  date_of_birth  \n",
       "0    1971-05-14  \n",
       "1    1976-02-18  \n",
       "2    1982-07-03  \n",
       "3    1947-06-15  \n",
       "4    1970-12-12  "
      ]
     },
     "execution_count": 128,
     "metadata": {},
     "output_type": "execute_result"
    }
   ],
   "source": [
    "# Print head\n",
    "demo.head()"
   ]
  },
  {
   "cell_type": "code",
   "execution_count": 129,
   "metadata": {},
   "outputs": [
    {
     "data": {
      "text/plain": [
       "(3000, 5)"
      ]
     },
     "execution_count": 129,
     "metadata": {},
     "output_type": "execute_result"
    }
   ],
   "source": [
    "# Print shape\n",
    "demo.shape"
   ]
  },
  {
   "cell_type": "code",
   "execution_count": 130,
   "metadata": {},
   "outputs": [
    {
     "data": {
      "text/plain": [
       "3000"
      ]
     },
     "execution_count": 130,
     "metadata": {},
     "output_type": "execute_result"
    }
   ],
   "source": [
    "# Is there one row per patient?\n",
    "demo[\"patient_id\"].nunique()"
   ]
  },
  {
   "cell_type": "markdown",
   "metadata": {},
   "source": [
    "There is one row per patient"
   ]
  },
  {
   "cell_type": "code",
   "execution_count": 131,
   "metadata": {},
   "outputs": [
    {
     "data": {
      "text/plain": [
       "gender\n",
       "Female    1396\n",
       "Male      1333\n",
       "m          170\n",
       "f          101\n",
       "Name: count, dtype: int64"
      ]
     },
     "execution_count": 131,
     "metadata": {},
     "output_type": "execute_result"
    }
   ],
   "source": [
    "# Print gender values\n",
    "demo[\"gender\"].value_counts()"
   ]
  },
  {
   "cell_type": "code",
   "execution_count": 132,
   "metadata": {},
   "outputs": [],
   "source": [
    "# Clean gender column\n",
    "replace_values = {\n",
    "    \"f\" : \"Female\", \n",
    "    \"m\" : \"Male\"}                                                                                          \n",
    "demo = demo.replace({\"gender\": replace_values}) "
   ]
  },
  {
   "cell_type": "code",
   "execution_count": 133,
   "metadata": {},
   "outputs": [
    {
     "data": {
      "text/plain": [
       "gender\n",
       "Male      1503\n",
       "Female    1497\n",
       "Name: count, dtype: int64"
      ]
     },
     "execution_count": 133,
     "metadata": {},
     "output_type": "execute_result"
    }
   ],
   "source": [
    "# Print gender values\n",
    "demo[\"gender\"].value_counts()"
   ]
  },
  {
   "cell_type": "code",
   "execution_count": 134,
   "metadata": {},
   "outputs": [],
   "source": [
    "# Clean dates\n",
    "demo[\"date_of_birth\"] = pd.to_datetime(demo[\"date_of_birth\"],format=\"%Y-%m-%y\")"
   ]
  },
  {
   "cell_type": "code",
   "execution_count": 135,
   "metadata": {},
   "outputs": [
    {
     "data": {
      "text/html": [
       "<div>\n",
       "<style scoped>\n",
       "    .dataframe tbody tr th:only-of-type {\n",
       "        vertical-align: middle;\n",
       "    }\n",
       "\n",
       "    .dataframe tbody tr th {\n",
       "        vertical-align: top;\n",
       "    }\n",
       "\n",
       "    .dataframe thead th {\n",
       "        text-align: right;\n",
       "    }\n",
       "</style>\n",
       "<table border=\"1\" class=\"dataframe\">\n",
       "  <thead>\n",
       "    <tr style=\"text-align: right;\">\n",
       "      <th></th>\n",
       "      <th>patient_id</th>\n",
       "      <th>gender</th>\n",
       "      <th>race</th>\n",
       "      <th>resident_status</th>\n",
       "      <th>date_of_birth</th>\n",
       "    </tr>\n",
       "  </thead>\n",
       "  <tbody>\n",
       "    <tr>\n",
       "      <th>0</th>\n",
       "      <td>fa2d818b2261e44e30628ad1ac9cc72c</td>\n",
       "      <td>Female</td>\n",
       "      <td>Indian</td>\n",
       "      <td>Singaporean</td>\n",
       "      <td>2014-05-01</td>\n",
       "    </tr>\n",
       "    <tr>\n",
       "      <th>1</th>\n",
       "      <td>5b6477c5de78d0b138e3b0c18e21d0ae</td>\n",
       "      <td>Female</td>\n",
       "      <td>Chinese</td>\n",
       "      <td>Singapore citizen</td>\n",
       "      <td>2018-02-01</td>\n",
       "    </tr>\n",
       "    <tr>\n",
       "      <th>2</th>\n",
       "      <td>320aa16c61937447fd6631bf635e7fde</td>\n",
       "      <td>Male</td>\n",
       "      <td>Chinese</td>\n",
       "      <td>Singapore citizen</td>\n",
       "      <td>2003-07-01</td>\n",
       "    </tr>\n",
       "    <tr>\n",
       "      <th>3</th>\n",
       "      <td>c7f3881684045e6c49020481020fae36</td>\n",
       "      <td>Male</td>\n",
       "      <td>Malay</td>\n",
       "      <td>Singapore citizen</td>\n",
       "      <td>2015-06-01</td>\n",
       "    </tr>\n",
       "    <tr>\n",
       "      <th>4</th>\n",
       "      <td>541ad077cb4a0e64cc422673afe28aef</td>\n",
       "      <td>Male</td>\n",
       "      <td>Chinese</td>\n",
       "      <td>Singaporean</td>\n",
       "      <td>2012-12-01</td>\n",
       "    </tr>\n",
       "  </tbody>\n",
       "</table>\n",
       "</div>"
      ],
      "text/plain": [
       "                         patient_id  gender     race    resident_status  \\\n",
       "0  fa2d818b2261e44e30628ad1ac9cc72c  Female   Indian        Singaporean   \n",
       "1  5b6477c5de78d0b138e3b0c18e21d0ae  Female  Chinese  Singapore citizen   \n",
       "2  320aa16c61937447fd6631bf635e7fde    Male  Chinese  Singapore citizen   \n",
       "3  c7f3881684045e6c49020481020fae36    Male    Malay  Singapore citizen   \n",
       "4  541ad077cb4a0e64cc422673afe28aef    Male  Chinese        Singaporean   \n",
       "\n",
       "  date_of_birth  \n",
       "0    2014-05-01  \n",
       "1    2018-02-01  \n",
       "2    2003-07-01  \n",
       "3    2015-06-01  \n",
       "4    2012-12-01  "
      ]
     },
     "execution_count": 135,
     "metadata": {},
     "output_type": "execute_result"
    }
   ],
   "source": [
    "# Print head\n",
    "demo.head()"
   ]
  },
  {
   "cell_type": "code",
   "execution_count": 136,
   "metadata": {},
   "outputs": [
    {
     "data": {
      "text/plain": [
       "race\n",
       "Chinese    1608\n",
       "Malay       629\n",
       "chinese     307\n",
       "Indian      195\n",
       "Others      161\n",
       "India       100\n",
       "Name: count, dtype: int64"
      ]
     },
     "execution_count": 136,
     "metadata": {},
     "output_type": "execute_result"
    }
   ],
   "source": [
    "# Print race values\n",
    "demo[\"race\"].value_counts()"
   ]
  },
  {
   "cell_type": "code",
   "execution_count": 137,
   "metadata": {},
   "outputs": [],
   "source": [
    "# Clean race column\n",
    "replace_values = {\n",
    "    \"chinese\" : \"Chinese\", \n",
    "    \"India\" : \"Indian\",\n",
    "    \"Others\" : \"Other\"}                                                                                          \n",
    "demo = demo.replace({\"race\": replace_values}) "
   ]
  },
  {
   "cell_type": "code",
   "execution_count": 138,
   "metadata": {},
   "outputs": [
    {
     "data": {
      "text/plain": [
       "race\n",
       "Chinese    1915\n",
       "Malay       629\n",
       "Indian      295\n",
       "Other       161\n",
       "Name: count, dtype: int64"
      ]
     },
     "execution_count": 138,
     "metadata": {},
     "output_type": "execute_result"
    }
   ],
   "source": [
    "# Print race values\n",
    "demo[\"race\"].value_counts()"
   ]
  },
  {
   "cell_type": "code",
   "execution_count": 139,
   "metadata": {},
   "outputs": [
    {
     "data": {
      "text/plain": [
       "resident_status\n",
       "Singaporean          1782\n",
       "Singapore citizen     610\n",
       "PR                    465\n",
       "Foreigner             143\n",
       "Name: count, dtype: int64"
      ]
     },
     "execution_count": 139,
     "metadata": {},
     "output_type": "execute_result"
    }
   ],
   "source": [
    "# Print resident status values\n",
    "demo[\"resident_status\"].value_counts()"
   ]
  },
  {
   "cell_type": "code",
   "execution_count": 140,
   "metadata": {},
   "outputs": [],
   "source": [
    "# Clean resident status column\n",
    "replace_values = {\n",
    "    \"Singapore citizen\" : \"Singaporean\"}                                                                                \n",
    "demo = demo.replace({\"resident_status\": replace_values}) "
   ]
  },
  {
   "cell_type": "code",
   "execution_count": 141,
   "metadata": {},
   "outputs": [
    {
     "data": {
      "text/plain": [
       "resident_status\n",
       "Singaporean    2392\n",
       "PR              465\n",
       "Foreigner       143\n",
       "Name: count, dtype: int64"
      ]
     },
     "execution_count": 141,
     "metadata": {},
     "output_type": "execute_result"
    }
   ],
   "source": [
    "# Print resident status values\n",
    "demo[\"resident_status\"].value_counts()"
   ]
  },
  {
   "cell_type": "markdown",
   "metadata": {},
   "source": [
    "## Combine"
   ]
  },
  {
   "cell_type": "code",
   "execution_count": 142,
   "metadata": {},
   "outputs": [],
   "source": [
    "# Left join demographics data to clinical data\n",
    "clin = pd.merge(clin, demo, how=\"left\", left_on=\"id\", right_on=\"patient_id\")\n",
    "clin.drop(columns=\"patient_id\",axis=1, inplace=True)"
   ]
  },
  {
   "cell_type": "code",
   "execution_count": 143,
   "metadata": {},
   "outputs": [],
   "source": [
    "# Create age at admission variable\n",
    "clin[\"age_at_admission\"] = (clin[\"date_of_admission\"].dt.year - clin[\"date_of_birth\"].dt.year).astype(int)"
   ]
  },
  {
   "cell_type": "code",
   "execution_count": 144,
   "metadata": {},
   "outputs": [
    {
     "data": {
      "text/plain": [
       "(3000, 33)"
      ]
     },
     "execution_count": 144,
     "metadata": {},
     "output_type": "execute_result"
    }
   ],
   "source": [
    "# Identify first admission (index)\n",
    "clin = clin.sort_values(by=[\"id\",\"date_of_admission\"], ascending=[True,True])\n",
    "clin_fa = clin.drop_duplicates(subset=\"id\",keep=\"first\")\n",
    "clin_fa.shape"
   ]
  },
  {
   "cell_type": "code",
   "execution_count": 145,
   "metadata": {},
   "outputs": [],
   "source": [
    "# Remove first admissions from clin\n",
    "clin_oa = clin[~clin[\"row_id\"].isin(clin_fa[\"row_id\"])].reset_index(drop=True)\n",
    "clin_oa = clin_oa.sort_values(by=[\"id\",\"date_of_admission\"], ascending=[True,True])\n",
    "clin_oa = clin_oa.drop_duplicates(subset=\"id\",keep=\"first\")\n",
    "clin_oa[\"readmission\"] = 1"
   ]
  },
  {
   "cell_type": "code",
   "execution_count": 146,
   "metadata": {},
   "outputs": [],
   "source": [
    "# Join readmission variables to first admission\n",
    "clin_oa.rename(columns={\"date_of_admission\" : \"date_of_readmission\"},inplace=True)\n",
    "clin_fa = pd.merge(clin_fa, clin_oa[[\"id\",\"readmission\",\"date_of_readmission\"]], how=\"left\", on=\"id\")\n",
    "clin_fa[\"readmission\"] = clin_fa[\"readmission\"].fillna(0)"
   ]
  },
  {
   "cell_type": "code",
   "execution_count": 147,
   "metadata": {},
   "outputs": [],
   "source": [
    "# Calculate time to readmission\n",
    "clin_fa[\"time_to_readmission\"] = (clin_fa[\"date_of_readmission\"] - clin_fa[\"date_of_admission\"]).dt.days"
   ]
  },
  {
   "cell_type": "code",
   "execution_count": 148,
   "metadata": {},
   "outputs": [],
   "source": [
    "# Right censor data to the max discharge date\n",
    "clin_fa_read = clin_fa[clin_fa[\"readmission\"]==1].reset_index(drop=True)\n",
    "clin_fa_none = clin_fa[clin_fa[\"readmission\"]==0].reset_index(drop=True)\n",
    "clin_fa_none[\"time_to_readmission\"] = (clin[\"date_of_discharge\"].max() - clin_fa[\"date_of_admission\"]).dt.days\n",
    "clin_fa = pd.concat([clin_fa_read,clin_fa_none])\n",
    "del clin_fa_read, clin_fa_none"
   ]
  },
  {
   "cell_type": "code",
   "execution_count": 149,
   "metadata": {},
   "outputs": [
    {
     "data": {
      "text/html": [
       "<div>\n",
       "<style scoped>\n",
       "    .dataframe tbody tr th:only-of-type {\n",
       "        vertical-align: middle;\n",
       "    }\n",
       "\n",
       "    .dataframe tbody tr th {\n",
       "        vertical-align: top;\n",
       "    }\n",
       "\n",
       "    .dataframe thead th {\n",
       "        text-align: right;\n",
       "    }\n",
       "</style>\n",
       "<table border=\"1\" class=\"dataframe\">\n",
       "  <thead>\n",
       "    <tr style=\"text-align: right;\">\n",
       "      <th></th>\n",
       "      <th>id</th>\n",
       "      <th>date_of_admission</th>\n",
       "      <th>date_of_discharge</th>\n",
       "      <th>medical_history_dia</th>\n",
       "      <th>medical_history_sud</th>\n",
       "      <th>medical_history_hbp</th>\n",
       "      <th>medical_history_ren</th>\n",
       "      <th>medical_history_tum</th>\n",
       "      <th>medical_history_anx</th>\n",
       "      <th>medical_history_mood</th>\n",
       "      <th>...</th>\n",
       "      <th>row_id</th>\n",
       "      <th>bmi</th>\n",
       "      <th>gender</th>\n",
       "      <th>race</th>\n",
       "      <th>resident_status</th>\n",
       "      <th>date_of_birth</th>\n",
       "      <th>age_at_admission</th>\n",
       "      <th>readmission</th>\n",
       "      <th>date_of_readmission</th>\n",
       "      <th>time_to_readmission</th>\n",
       "    </tr>\n",
       "  </thead>\n",
       "  <tbody>\n",
       "    <tr>\n",
       "      <th>0</th>\n",
       "      <td>012c5eb5397a72f8aeb64f942b60846d</td>\n",
       "      <td>2011-06-08</td>\n",
       "      <td>2011-06-23</td>\n",
       "      <td>0</td>\n",
       "      <td>0.0</td>\n",
       "      <td>0</td>\n",
       "      <td>0</td>\n",
       "      <td>0.0</td>\n",
       "      <td>1</td>\n",
       "      <td>0</td>\n",
       "      <td>...</td>\n",
       "      <td>302</td>\n",
       "      <td>33.92</td>\n",
       "      <td>Male</td>\n",
       "      <td>Malay</td>\n",
       "      <td>Singaporean</td>\n",
       "      <td>2024-03-01</td>\n",
       "      <td>-13</td>\n",
       "      <td>1.0</td>\n",
       "      <td>2015-11-17</td>\n",
       "      <td>1623.0</td>\n",
       "    </tr>\n",
       "    <tr>\n",
       "      <th>1</th>\n",
       "      <td>0284ec8aa1e6ced9ddaa7702b841248d</td>\n",
       "      <td>2014-02-26</td>\n",
       "      <td>2014-03-04</td>\n",
       "      <td>0</td>\n",
       "      <td>0.0</td>\n",
       "      <td>0</td>\n",
       "      <td>0</td>\n",
       "      <td>0.0</td>\n",
       "      <td>0</td>\n",
       "      <td>0</td>\n",
       "      <td>...</td>\n",
       "      <td>2123</td>\n",
       "      <td>24.81</td>\n",
       "      <td>Female</td>\n",
       "      <td>Indian</td>\n",
       "      <td>Singaporean</td>\n",
       "      <td>2011-10-01</td>\n",
       "      <td>3</td>\n",
       "      <td>1.0</td>\n",
       "      <td>2014-06-21</td>\n",
       "      <td>115.0</td>\n",
       "    </tr>\n",
       "    <tr>\n",
       "      <th>2</th>\n",
       "      <td>03d6bdbc614a5bdbeadf5b981a59c423</td>\n",
       "      <td>2011-02-01</td>\n",
       "      <td>2011-02-20</td>\n",
       "      <td>0</td>\n",
       "      <td>1.0</td>\n",
       "      <td>0</td>\n",
       "      <td>0</td>\n",
       "      <td>0.0</td>\n",
       "      <td>1</td>\n",
       "      <td>0</td>\n",
       "      <td>...</td>\n",
       "      <td>65</td>\n",
       "      <td>33.82</td>\n",
       "      <td>Female</td>\n",
       "      <td>Chinese</td>\n",
       "      <td>Singaporean</td>\n",
       "      <td>2014-02-01</td>\n",
       "      <td>-3</td>\n",
       "      <td>1.0</td>\n",
       "      <td>2015-06-04</td>\n",
       "      <td>1584.0</td>\n",
       "    </tr>\n",
       "    <tr>\n",
       "      <th>3</th>\n",
       "      <td>050df896aaa8cbad8fc1988bc1f79ebc</td>\n",
       "      <td>2015-01-18</td>\n",
       "      <td>2015-01-31</td>\n",
       "      <td>0</td>\n",
       "      <td>0.0</td>\n",
       "      <td>0</td>\n",
       "      <td>0</td>\n",
       "      <td>0.0</td>\n",
       "      <td>0</td>\n",
       "      <td>0</td>\n",
       "      <td>...</td>\n",
       "      <td>2745</td>\n",
       "      <td>30.15</td>\n",
       "      <td>Male</td>\n",
       "      <td>Chinese</td>\n",
       "      <td>PR</td>\n",
       "      <td>2025-12-01</td>\n",
       "      <td>-10</td>\n",
       "      <td>1.0</td>\n",
       "      <td>2015-10-13</td>\n",
       "      <td>268.0</td>\n",
       "    </tr>\n",
       "    <tr>\n",
       "      <th>4</th>\n",
       "      <td>0628639ffb53c8b38389a6e01897a6a5</td>\n",
       "      <td>2012-12-13</td>\n",
       "      <td>2012-12-24</td>\n",
       "      <td>0</td>\n",
       "      <td>0.0</td>\n",
       "      <td>0</td>\n",
       "      <td>0</td>\n",
       "      <td>0.0</td>\n",
       "      <td>0</td>\n",
       "      <td>1</td>\n",
       "      <td>...</td>\n",
       "      <td>1318</td>\n",
       "      <td>27.33</td>\n",
       "      <td>Female</td>\n",
       "      <td>Indian</td>\n",
       "      <td>Singaporean</td>\n",
       "      <td>2001-08-01</td>\n",
       "      <td>11</td>\n",
       "      <td>1.0</td>\n",
       "      <td>2014-07-17</td>\n",
       "      <td>581.0</td>\n",
       "    </tr>\n",
       "  </tbody>\n",
       "</table>\n",
       "<p>5 rows × 36 columns</p>\n",
       "</div>"
      ],
      "text/plain": [
       "                                 id date_of_admission date_of_discharge  \\\n",
       "0  012c5eb5397a72f8aeb64f942b60846d        2011-06-08        2011-06-23   \n",
       "1  0284ec8aa1e6ced9ddaa7702b841248d        2014-02-26        2014-03-04   \n",
       "2  03d6bdbc614a5bdbeadf5b981a59c423        2011-02-01        2011-02-20   \n",
       "3  050df896aaa8cbad8fc1988bc1f79ebc        2015-01-18        2015-01-31   \n",
       "4  0628639ffb53c8b38389a6e01897a6a5        2012-12-13        2012-12-24   \n",
       "\n",
       "   medical_history_dia  medical_history_sud medical_history_hbp  \\\n",
       "0                    0                  0.0                   0   \n",
       "1                    0                  0.0                   0   \n",
       "2                    0                  1.0                   0   \n",
       "3                    0                  0.0                   0   \n",
       "4                    0                  0.0                   0   \n",
       "\n",
       "   medical_history_ren  medical_history_tum  medical_history_anx  \\\n",
       "0                    0                  0.0                    1   \n",
       "1                    0                  0.0                    0   \n",
       "2                    0                  0.0                    1   \n",
       "3                    0                  0.0                    0   \n",
       "4                    0                  0.0                    0   \n",
       "\n",
       "   medical_history_mood  ...  row_id    bmi  gender     race  resident_status  \\\n",
       "0                     0  ...     302  33.92    Male    Malay      Singaporean   \n",
       "1                     0  ...    2123  24.81  Female   Indian      Singaporean   \n",
       "2                     0  ...      65  33.82  Female  Chinese      Singaporean   \n",
       "3                     0  ...    2745  30.15    Male  Chinese               PR   \n",
       "4                     1  ...    1318  27.33  Female   Indian      Singaporean   \n",
       "\n",
       "   date_of_birth  age_at_admission  readmission  date_of_readmission  \\\n",
       "0     2024-03-01               -13          1.0           2015-11-17   \n",
       "1     2011-10-01                 3          1.0           2014-06-21   \n",
       "2     2014-02-01                -3          1.0           2015-06-04   \n",
       "3     2025-12-01               -10          1.0           2015-10-13   \n",
       "4     2001-08-01                11          1.0           2014-07-17   \n",
       "\n",
       "   time_to_readmission  \n",
       "0               1623.0  \n",
       "1                115.0  \n",
       "2               1584.0  \n",
       "3                268.0  \n",
       "4                581.0  \n",
       "\n",
       "[5 rows x 36 columns]"
      ]
     },
     "execution_count": 149,
     "metadata": {},
     "output_type": "execute_result"
    }
   ],
   "source": [
    "# Print head\n",
    "clin_fa.head()"
   ]
  },
  {
   "cell_type": "code",
   "execution_count": 150,
   "metadata": {},
   "outputs": [
    {
     "name": "stdout",
     "output_type": "stream",
     "text": [
      "<class 'pandas.core.frame.DataFrame'>\n",
      "Index: 3000 entries, 0 to 2620\n",
      "Data columns (total 36 columns):\n",
      " #   Column                Non-Null Count  Dtype         \n",
      "---  ------                --------------  -----         \n",
      " 0   id                    3000 non-null   object        \n",
      " 1   date_of_admission     3000 non-null   datetime64[ns]\n",
      " 2   date_of_discharge     3000 non-null   datetime64[ns]\n",
      " 3   medical_history_dia   3000 non-null   int64         \n",
      " 4   medical_history_sud   2798 non-null   float64       \n",
      " 5   medical_history_hbp   3000 non-null   object        \n",
      " 6   medical_history_ren   3000 non-null   int64         \n",
      " 7   medical_history_tum   2731 non-null   float64       \n",
      " 8   medical_history_anx   3000 non-null   int64         \n",
      " 9   medical_history_mood  3000 non-null   int64         \n",
      " 10  trt_anx               3000 non-null   int64         \n",
      " 11  trt_con               3000 non-null   int64         \n",
      " 12  trt_adt               3000 non-null   int64         \n",
      " 13  trt_ssr               3000 non-null   int64         \n",
      " 14  trt_the               3000 non-null   int64         \n",
      " 15  trt_oth               3000 non-null   int64         \n",
      " 16  symptom_1             3000 non-null   int64         \n",
      " 17  symptom_2             3000 non-null   int64         \n",
      " 18  symptom_3             3000 non-null   int64         \n",
      " 19  symptom_4             3000 non-null   int64         \n",
      " 20  symptom_5             3000 non-null   int64         \n",
      " 21  weight                3000 non-null   float64       \n",
      " 22  height                3000 non-null   int64         \n",
      " 23  cgis_adm              3000 non-null   int64         \n",
      " 24  cgis_dis              3000 non-null   int64         \n",
      " 25  gaf_lv                3000 non-null   int64         \n",
      " 26  row_id                3000 non-null   int64         \n",
      " 27  bmi                   3000 non-null   float64       \n",
      " 28  gender                3000 non-null   object        \n",
      " 29  race                  3000 non-null   object        \n",
      " 30  resident_status       3000 non-null   object        \n",
      " 31  date_of_birth         3000 non-null   datetime64[ns]\n",
      " 32  age_at_admission      3000 non-null   int32         \n",
      " 33  readmission           3000 non-null   float64       \n",
      " 34  date_of_readmission   379 non-null    datetime64[ns]\n",
      " 35  time_to_readmission   3000 non-null   float64       \n",
      "dtypes: datetime64[ns](4), float64(6), int32(1), int64(20), object(5)\n",
      "memory usage: 855.5+ KB\n"
     ]
    }
   ],
   "source": [
    "# Print columns\n",
    "clin_fa.info()"
   ]
  },
  {
   "cell_type": "markdown",
   "metadata": {},
   "source": [
    "# Analysis"
   ]
  },
  {
   "cell_type": "code",
   "execution_count": 151,
   "metadata": {},
   "outputs": [
    {
     "data": {
      "text/plain": [
       "(113, 37)"
      ]
     },
     "execution_count": 151,
     "metadata": {},
     "output_type": "execute_result"
    }
   ],
   "source": [
    "# Create a treatment 1 group, i.e. the standard treatment of anti-depressants with or without therapy\n",
    "trt1 = clin_fa[(clin_fa[\"trt_adt\"]==1) & ((clin_fa[\"trt_the\"]==1) | (clin_fa[\"trt_the\"]==0)) & (clin_fa[\"trt_con\"]==0) & (clin_fa[\"trt_ssr\"]==0) & (clin_fa[\"trt_oth\"]==0)].reset_index(drop=True)\n",
    "trt1[\"group\"] = \"Trt 1\"\n",
    "trt1.shape"
   ]
  },
  {
   "cell_type": "code",
   "execution_count": 152,
   "metadata": {},
   "outputs": [
    {
     "data": {
      "text/plain": [
       "(2348, 37)"
      ]
     },
     "execution_count": 152,
     "metadata": {},
     "output_type": "execute_result"
    }
   ],
   "source": [
    "# Create a treatment 2 group, i.e. the standard treatment of anti-depressants with or without therapy plus an adjunctvant medication\n",
    "trt2 = clin_fa[(clin_fa[\"trt_adt\"]==1) & ((clin_fa[\"trt_the\"]==1) | (clin_fa[\"trt_the\"]==0)) & ((clin_fa[\"trt_con\"]==1) | (clin_fa[\"trt_ssr\"]==1) | (clin_fa[\"trt_oth\"]==1))].reset_index(drop=True)\n",
    "trt2[\"group\"] = \"Trt 2\"\n",
    "trt2.shape"
   ]
  },
  {
   "cell_type": "code",
   "execution_count": 153,
   "metadata": {},
   "outputs": [
    {
     "data": {
      "text/plain": [
       "(2461, 37)"
      ]
     },
     "execution_count": 153,
     "metadata": {},
     "output_type": "execute_result"
    }
   ],
   "source": [
    "# Combine\n",
    "expr = pd.concat([trt1,trt2])\n",
    "expr.shape"
   ]
  },
  {
   "cell_type": "markdown",
   "metadata": {},
   "source": [
    "## Demographics"
   ]
  },
  {
   "cell_type": "markdown",
   "metadata": {},
   "source": [
    "### Age"
   ]
  },
  {
   "cell_type": "code",
   "execution_count": 156,
   "metadata": {},
   "outputs": [
    {
     "name": "stdout",
     "output_type": "stream",
     "text": [
      "        count      mean       std   min   25%  50%  75%   max\n",
      "group                                                        \n",
      "Trt 1   113.0 -2.362832  8.497964 -17.0 -10.0 -3.0  5.0  14.0\n",
      "Trt 2  2348.0 -1.517888  8.163650 -17.0  -8.0 -1.0  5.0  14.0\n"
     ]
    }
   ],
   "source": [
    "# Print summary table\n",
    "st = expr.groupby(\"group\")[\"age_at_admission\"].describe()\n",
    "print(st)"
   ]
  },
  {
   "cell_type": "markdown",
   "metadata": {},
   "source": [
    "### Gender"
   ]
  },
  {
   "cell_type": "code",
   "execution_count": 165,
   "metadata": {},
   "outputs": [
    {
     "name": "stdout",
     "output_type": "stream",
     "text": [
      "group  gender\n",
      "Trt 1  Female      59\n",
      "       Male        54\n",
      "Trt 2  Male      1188\n",
      "       Female    1160\n",
      "Name: count, dtype: int64\n"
     ]
    }
   ],
   "source": [
    "# Print summary table\n",
    "st = expr.groupby(\"group\")[\"gender\"].value_counts()\n",
    "print(st)"
   ]
  },
  {
   "cell_type": "code",
   "execution_count": 167,
   "metadata": {},
   "outputs": [
    {
     "name": "stdout",
     "output_type": "stream",
     "text": [
      "group  gender\n",
      "Trt 1  Female    0.522124\n",
      "       Male      0.477876\n",
      "Trt 2  Male      0.505963\n",
      "       Female    0.494037\n",
      "Name: proportion, dtype: float64\n"
     ]
    }
   ],
   "source": [
    "# Print summary table\n",
    "st = expr.groupby(\"group\")[\"gender\"].value_counts(normalize=True)\n",
    "print(st)"
   ]
  },
  {
   "cell_type": "markdown",
   "metadata": {},
   "source": [
    "### Race"
   ]
  },
  {
   "cell_type": "code",
   "execution_count": 164,
   "metadata": {},
   "outputs": [
    {
     "name": "stdout",
     "output_type": "stream",
     "text": [
      "group  race   \n",
      "Trt 1  Chinese      78\n",
      "       Malay        23\n",
      "       Indian        8\n",
      "       Other         4\n",
      "Trt 2  Chinese    1501\n",
      "       Malay       489\n",
      "       Indian      239\n",
      "       Other       119\n",
      "Name: count, dtype: int64\n"
     ]
    }
   ],
   "source": [
    "# Print summary table\n",
    "st = expr.groupby(\"group\")[\"race\"].value_counts()\n",
    "print(st)"
   ]
  },
  {
   "cell_type": "code",
   "execution_count": 168,
   "metadata": {},
   "outputs": [
    {
     "name": "stdout",
     "output_type": "stream",
     "text": [
      "group  race   \n",
      "Trt 1  Chinese    0.690265\n",
      "       Malay      0.203540\n",
      "       Indian     0.070796\n",
      "       Other      0.035398\n",
      "Trt 2  Chinese    0.639267\n",
      "       Malay      0.208262\n",
      "       Indian     0.101789\n",
      "       Other      0.050681\n",
      "Name: proportion, dtype: float64\n"
     ]
    }
   ],
   "source": [
    "# Print summary table\n",
    "st = expr.groupby(\"group\")[\"race\"].value_counts(normalize=True)\n",
    "print(st)"
   ]
  },
  {
   "cell_type": "markdown",
   "metadata": {},
   "source": [
    "### Resident status"
   ]
  },
  {
   "cell_type": "code",
   "execution_count": 169,
   "metadata": {},
   "outputs": [
    {
     "name": "stdout",
     "output_type": "stream",
     "text": [
      "group  resident_status\n",
      "Trt 1  Singaporean          89\n",
      "       PR                   20\n",
      "       Foreigner             4\n",
      "Trt 2  Singaporean        1878\n",
      "       PR                  351\n",
      "       Foreigner           119\n",
      "Name: count, dtype: int64\n"
     ]
    }
   ],
   "source": [
    "# Print summary table\n",
    "st = expr.groupby(\"group\")[\"resident_status\"].value_counts()\n",
    "print(st)"
   ]
  },
  {
   "cell_type": "code",
   "execution_count": 170,
   "metadata": {},
   "outputs": [
    {
     "name": "stdout",
     "output_type": "stream",
     "text": [
      "group  resident_status\n",
      "Trt 1  Singaporean        0.787611\n",
      "       PR                 0.176991\n",
      "       Foreigner          0.035398\n",
      "Trt 2  Singaporean        0.799830\n",
      "       PR                 0.149489\n",
      "       Foreigner          0.050681\n",
      "Name: proportion, dtype: float64\n"
     ]
    }
   ],
   "source": [
    "# Print summary table\n",
    "st = expr.groupby(\"group\")[\"resident_status\"].value_counts(normalize=True)\n",
    "print(st)"
   ]
  },
  {
   "cell_type": "markdown",
   "metadata": {},
   "source": [
    "## Kaplan-Meier"
   ]
  },
  {
   "cell_type": "markdown",
   "metadata": {},
   "source": [
    "### Raw data"
   ]
  },
  {
   "cell_type": "code",
   "execution_count": 93,
   "metadata": {},
   "outputs": [
    {
     "data": {
      "image/png": "[encoded data removed]",
      "text/plain": [
       "<Figure size 640x480 with 1 Axes>"
      ]
     },
     "metadata": {},
     "output_type": "display_data"
    }
   ],
   "source": [
    "# Create a Kaplan-Meier plot\n",
    "kmf = KaplanMeierFitter()\n",
    "kmf.fit(trt1[\"time_to_readmission\"], event_observed=trt1[\"readmission\"], label='Trt 1: adt +/- the')\n",
    "ax = kmf.plot()\n",
    "kmf.fit(trt2[\"time_to_readmission\"], event_observed=trt2[\"readmission\"], label='Trt 2 : adt +/- the + adj')\n",
    "kmf.plot(ax=ax)\n",
    "plt.title('Time to Readmission')\n",
    "plt.xlabel('Time (days)')\n",
    "plt.ylabel('Survival Probability')\n",
    "plt.show()"
   ]
  },
  {
   "cell_type": "code",
   "execution_count": 105,
   "metadata": {},
   "outputs": [
    {
     "data": {
      "text/html": [
       "<div>\n",
       "<style scoped>\n",
       "    .dataframe tbody tr th:only-of-type {\n",
       "        vertical-align: middle;\n",
       "    }\n",
       "\n",
       "    .dataframe tbody tr th {\n",
       "        vertical-align: top;\n",
       "    }\n",
       "\n",
       "    .dataframe thead th {\n",
       "        text-align: right;\n",
       "    }\n",
       "</style>\n",
       "<table border=\"1\" class=\"dataframe\">\n",
       "  <tbody>\n",
       "    <tr>\n",
       "      <th>t_0</th>\n",
       "      <td>-1</td>\n",
       "    </tr>\n",
       "    <tr>\n",
       "      <th>null_distribution</th>\n",
       "      <td>chi squared</td>\n",
       "    </tr>\n",
       "    <tr>\n",
       "      <th>degrees_of_freedom</th>\n",
       "      <td>1</td>\n",
       "    </tr>\n",
       "    <tr>\n",
       "      <th>alpha</th>\n",
       "      <td>0.99</td>\n",
       "    </tr>\n",
       "    <tr>\n",
       "      <th>test_name</th>\n",
       "      <td>Peto_test</td>\n",
       "    </tr>\n",
       "  </tbody>\n",
       "</table>\n",
       "</div><table border=\"1\" class=\"dataframe\">\n",
       "  <thead>\n",
       "    <tr style=\"text-align: right;\">\n",
       "      <th></th>\n",
       "      <th>test_statistic</th>\n",
       "      <th>p</th>\n",
       "      <th>-log2(p)</th>\n",
       "    </tr>\n",
       "  </thead>\n",
       "  <tbody>\n",
       "    <tr>\n",
       "      <th>0</th>\n",
       "      <td>0.03</td>\n",
       "      <td>0.87</td>\n",
       "      <td>0.20</td>\n",
       "    </tr>\n",
       "  </tbody>\n",
       "</table>"
      ],
      "text/latex": [
       "\\begin{tabular}{lrrr}\n",
       " & test_statistic & p & -log2(p) \\\\\n",
       "0 & 0.03 & 0.87 & 0.20 \\\\\n",
       "\\end{tabular}\n"
      ],
      "text/plain": [
       "<lifelines.StatisticalResult: Peto_test>\n",
       "               t_0 = -1\n",
       " null_distribution = chi squared\n",
       "degrees_of_freedom = 1\n",
       "             alpha = 0.99\n",
       "         test_name = Peto_test\n",
       "\n",
       "---\n",
       " test_statistic    p  -log2(p)\n",
       "           0.03 0.87      0.20"
      ]
     },
     "metadata": {},
     "output_type": "display_data"
    }
   ],
   "source": [
    "# Perform and print results of log-rank test \n",
    "lrt = logrank_test(trt1[\"time_to_readmission\"], trt2[\"time_to_readmission\"], trt1[\"readmission\"], trt2[\"readmission\"], alpha=.99, weightings='peto')\n",
    "lrt.print_summary()"
   ]
  },
  {
   "cell_type": "code",
   "execution_count": 109,
   "metadata": {},
   "outputs": [
    {
     "data": {
      "text/html": [
       "<div>\n",
       "<style scoped>\n",
       "    .dataframe tbody tr th:only-of-type {\n",
       "        vertical-align: middle;\n",
       "    }\n",
       "\n",
       "    .dataframe tbody tr th {\n",
       "        vertical-align: top;\n",
       "    }\n",
       "\n",
       "    .dataframe thead th {\n",
       "        text-align: right;\n",
       "    }\n",
       "</style>\n",
       "<table border=\"1\" class=\"dataframe\">\n",
       "  <tbody>\n",
       "    <tr>\n",
       "      <th>null_distribution</th>\n",
       "      <td>chi squared</td>\n",
       "    </tr>\n",
       "    <tr>\n",
       "      <th>degrees_of_freedom</th>\n",
       "      <td>1</td>\n",
       "    </tr>\n",
       "    <tr>\n",
       "      <th>point_in_time</th>\n",
       "      <td>365</td>\n",
       "    </tr>\n",
       "    <tr>\n",
       "      <th>fitterA</th>\n",
       "      <td>&lt;lifelines.KaplanMeierFitter:\"Trt 1: adt +/- t...</td>\n",
       "    </tr>\n",
       "    <tr>\n",
       "      <th>fitterB</th>\n",
       "      <td>&lt;lifelines.KaplanMeierFitter:\"Trt 2: adt +/- t...</td>\n",
       "    </tr>\n",
       "    <tr>\n",
       "      <th>test_name</th>\n",
       "      <td>survival_difference_at_fixed_point_in_time_test</td>\n",
       "    </tr>\n",
       "  </tbody>\n",
       "</table>\n",
       "</div><table border=\"1\" class=\"dataframe\">\n",
       "  <thead>\n",
       "    <tr style=\"text-align: right;\">\n",
       "      <th></th>\n",
       "      <th>test_statistic</th>\n",
       "      <th>p</th>\n",
       "      <th>-log2(p)</th>\n",
       "    </tr>\n",
       "  </thead>\n",
       "  <tbody>\n",
       "    <tr>\n",
       "      <th>0</th>\n",
       "      <td>1.22</td>\n",
       "      <td>0.27</td>\n",
       "      <td>1.89</td>\n",
       "    </tr>\n",
       "  </tbody>\n",
       "</table>"
      ],
      "text/latex": [
       "\\begin{tabular}{lrrr}\n",
       " & test_statistic & p & -log2(p) \\\\\n",
       "0 & 1.22 & 0.27 & 1.89 \\\\\n",
       "\\end{tabular}\n"
      ],
      "text/plain": [
       "<lifelines.StatisticalResult: survival_difference_at_fixed_point_in_time_test>\n",
       " null_distribution = chi squared\n",
       "degrees_of_freedom = 1\n",
       "     point_in_time = 365\n",
       "           fitterA = <lifelines.KaplanMeierFitter:\"Trt 1: adt +/- the\", fitted with 113 total observations, 99 right-censored observations>\n",
       "           fitterB = <lifelines.KaplanMeierFitter:\"Trt 2: adt +/- the + adj\", fitted with 2348 total observations, 2059 right-censored observations>\n",
       "         test_name = survival_difference_at_fixed_point_in_time_test\n",
       "\n",
       "---\n",
       " test_statistic    p  -log2(p)\n",
       "           1.22 0.27      1.89"
      ]
     },
     "metadata": {},
     "output_type": "display_data"
    }
   ],
   "source": [
    "# Perform and print results of a survival difference at fixed point in time test\n",
    "point_in_time = 365\n",
    "kmf_trt1 = KaplanMeierFitter().fit(trt1[\"time_to_readmission\"], event_observed=trt1[\"readmission\"], label='Trt 1: adt +/- the')\n",
    "kmf_trt2 = KaplanMeierFitter().fit(trt2[\"time_to_readmission\"], event_observed=trt2[\"readmission\"], label='Trt 2: adt +/- the + adj')\n",
    "fpt = survival_difference_at_fixed_point_in_time_test(point_in_time, kmf_trt1, kmf_trt2)\n",
    "fpt.print_summary()"
   ]
  },
  {
   "cell_type": "markdown",
   "metadata": {},
   "source": [
    "### Bootstrapped"
   ]
  },
  {
   "cell_type": "code",
   "execution_count": 95,
   "metadata": {},
   "outputs": [],
   "source": [
    "# Generate 10x synthetic examples using bootstrapping with replacement to increase the sample size of treatment group 1\n",
    "sample_multiplication = 10\n",
    "trt1_bs = bootstrap_samples(trt1, n_samples = 10)"
   ]
  },
  {
   "cell_type": "code",
   "execution_count": 102,
   "metadata": {},
   "outputs": [
    {
     "data": {
      "image/png": "[encoded data removed]",
      "text/plain": [
       "<Figure size 640x480 with 1 Axes>"
      ]
     },
     "metadata": {},
     "output_type": "display_data"
    }
   ],
   "source": [
    "# Create a Kaplan-Meier plot\n",
    "kmf = KaplanMeierFitter()\n",
    "kmf.fit(trt1_bs[\"time_to_readmission\"], event_observed=trt1_bs[\"readmission\"], label='Trt 1: adt +/- the')\n",
    "ax = kmf.plot()\n",
    "kmf.fit(trt2[\"time_to_readmission\"], event_observed=trt2[\"readmission\"], label='Trt 2 : adt +/- the + adj')\n",
    "kmf.plot(ax=ax)\n",
    "plt.title('Time to Readmission [Trt 1 group bootstrapped]')\n",
    "plt.xlabel('Time (days)')\n",
    "plt.ylabel('Survival Probability')\n",
    "plt.show()"
   ]
  },
  {
   "cell_type": "code",
   "execution_count": 106,
   "metadata": {},
   "outputs": [
    {
     "data": {
      "text/html": [
       "<div>\n",
       "<style scoped>\n",
       "    .dataframe tbody tr th:only-of-type {\n",
       "        vertical-align: middle;\n",
       "    }\n",
       "\n",
       "    .dataframe tbody tr th {\n",
       "        vertical-align: top;\n",
       "    }\n",
       "\n",
       "    .dataframe thead th {\n",
       "        text-align: right;\n",
       "    }\n",
       "</style>\n",
       "<table border=\"1\" class=\"dataframe\">\n",
       "  <tbody>\n",
       "    <tr>\n",
       "      <th>t_0</th>\n",
       "      <td>-1</td>\n",
       "    </tr>\n",
       "    <tr>\n",
       "      <th>null_distribution</th>\n",
       "      <td>chi squared</td>\n",
       "    </tr>\n",
       "    <tr>\n",
       "      <th>degrees_of_freedom</th>\n",
       "      <td>1</td>\n",
       "    </tr>\n",
       "    <tr>\n",
       "      <th>alpha</th>\n",
       "      <td>0.99</td>\n",
       "    </tr>\n",
       "    <tr>\n",
       "      <th>test_name</th>\n",
       "      <td>Peto_test</td>\n",
       "    </tr>\n",
       "  </tbody>\n",
       "</table>\n",
       "</div><table border=\"1\" class=\"dataframe\">\n",
       "  <thead>\n",
       "    <tr style=\"text-align: right;\">\n",
       "      <th></th>\n",
       "      <th>test_statistic</th>\n",
       "      <th>p</th>\n",
       "      <th>-log2(p)</th>\n",
       "    </tr>\n",
       "  </thead>\n",
       "  <tbody>\n",
       "    <tr>\n",
       "      <th>0</th>\n",
       "      <td>0.32</td>\n",
       "      <td>0.57</td>\n",
       "      <td>0.81</td>\n",
       "    </tr>\n",
       "  </tbody>\n",
       "</table>"
      ],
      "text/latex": [
       "\\begin{tabular}{lrrr}\n",
       " & test_statistic & p & -log2(p) \\\\\n",
       "0 & 0.32 & 0.57 & 0.81 \\\\\n",
       "\\end{tabular}\n"
      ],
      "text/plain": [
       "<lifelines.StatisticalResult: Peto_test>\n",
       "               t_0 = -1\n",
       " null_distribution = chi squared\n",
       "degrees_of_freedom = 1\n",
       "             alpha = 0.99\n",
       "         test_name = Peto_test\n",
       "\n",
       "---\n",
       " test_statistic    p  -log2(p)\n",
       "           0.32 0.57      0.81"
      ]
     },
     "metadata": {},
     "output_type": "display_data"
    }
   ],
   "source": [
    "# Perform and print results of log-rank test\n",
    "lrt = logrank_test(trt1_bs[\"time_to_readmission\"], trt2[\"time_to_readmission\"], trt1_bs[\"readmission\"], trt2[\"readmission\"], alpha=.99, weightings='peto')\n",
    "lrt.print_summary()"
   ]
  },
  {
   "cell_type": "code",
   "execution_count": 110,
   "metadata": {},
   "outputs": [
    {
     "data": {
      "text/html": [
       "<div>\n",
       "<style scoped>\n",
       "    .dataframe tbody tr th:only-of-type {\n",
       "        vertical-align: middle;\n",
       "    }\n",
       "\n",
       "    .dataframe tbody tr th {\n",
       "        vertical-align: top;\n",
       "    }\n",
       "\n",
       "    .dataframe thead th {\n",
       "        text-align: right;\n",
       "    }\n",
       "</style>\n",
       "<table border=\"1\" class=\"dataframe\">\n",
       "  <tbody>\n",
       "    <tr>\n",
       "      <th>null_distribution</th>\n",
       "      <td>chi squared</td>\n",
       "    </tr>\n",
       "    <tr>\n",
       "      <th>degrees_of_freedom</th>\n",
       "      <td>1</td>\n",
       "    </tr>\n",
       "    <tr>\n",
       "      <th>point_in_time</th>\n",
       "      <td>365</td>\n",
       "    </tr>\n",
       "    <tr>\n",
       "      <th>fitterA</th>\n",
       "      <td>&lt;lifelines.KaplanMeierFitter:\"Trt 1: adt +/- t...</td>\n",
       "    </tr>\n",
       "    <tr>\n",
       "      <th>fitterB</th>\n",
       "      <td>&lt;lifelines.KaplanMeierFitter:\"Trt 2: adt +/- t...</td>\n",
       "    </tr>\n",
       "    <tr>\n",
       "      <th>test_name</th>\n",
       "      <td>survival_difference_at_fixed_point_in_time_test</td>\n",
       "    </tr>\n",
       "  </tbody>\n",
       "</table>\n",
       "</div><table border=\"1\" class=\"dataframe\">\n",
       "  <thead>\n",
       "    <tr style=\"text-align: right;\">\n",
       "      <th></th>\n",
       "      <th>test_statistic</th>\n",
       "      <th>p</th>\n",
       "      <th>-log2(p)</th>\n",
       "    </tr>\n",
       "  </thead>\n",
       "  <tbody>\n",
       "    <tr>\n",
       "      <th>0</th>\n",
       "      <td>13.32</td>\n",
       "      <td>&lt;0.005</td>\n",
       "      <td>11.89</td>\n",
       "    </tr>\n",
       "  </tbody>\n",
       "</table>"
      ],
      "text/latex": [
       "\\begin{tabular}{lrrr}\n",
       " & test_statistic & p & -log2(p) \\\\\n",
       "0 & 13.32 & 0.00 & 11.89 \\\\\n",
       "\\end{tabular}\n"
      ],
      "text/plain": [
       "<lifelines.StatisticalResult: survival_difference_at_fixed_point_in_time_test>\n",
       " null_distribution = chi squared\n",
       "degrees_of_freedom = 1\n",
       "     point_in_time = 365\n",
       "           fitterA = <lifelines.KaplanMeierFitter:\"Trt 1: adt +/- the\", fitted with 1130 total observations, 987 right-censored observations>\n",
       "           fitterB = <lifelines.KaplanMeierFitter:\"Trt 2: adt +/- the + adj\", fitted with 2348 total observations, 2059 right-censored observations>\n",
       "         test_name = survival_difference_at_fixed_point_in_time_test\n",
       "\n",
       "---\n",
       " test_statistic      p  -log2(p)\n",
       "          13.32 <0.005     11.89"
      ]
     },
     "metadata": {},
     "output_type": "display_data"
    }
   ],
   "source": [
    "# Perform and print results of a survival difference at fixed point in time test\n",
    "point_in_time = 365\n",
    "kmf_trt1_bs = KaplanMeierFitter().fit(trt1_bs[\"time_to_readmission\"], event_observed=trt1_bs[\"readmission\"], label='Trt 1: adt +/- the')\n",
    "kmf_trt2 = KaplanMeierFitter().fit(trt2[\"time_to_readmission\"], event_observed=trt2[\"readmission\"], label='Trt 2: adt +/- the + adj')\n",
    "fpt = survival_difference_at_fixed_point_in_time_test(point_in_time, kmf_trt1_bs, kmf_trt2)\n",
    "fpt.print_summary()"
   ]
  }
 ],
 "metadata": {
  "kernelspec": {
   "display_name": "base",
   "language": "python",
   "name": "python3"
  },
  "language_info": {
   "codemirror_mode": {
    "name": "ipython",
    "version": 3
   },
   "file_extension": ".py",
   "mimetype": "text/x-python",
   "name": "python",
   "nbconvert_exporter": "python",
   "pygments_lexer": "ipython3",
   "version": "3.10.9"
  }
 },
 "nbformat": 4,
 "nbformat_minor": 2
}
